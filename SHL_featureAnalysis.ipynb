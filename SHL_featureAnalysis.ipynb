{
  "nbformat": 4,
  "nbformat_minor": 0,
  "metadata": {
    "colab": {
      "name": "SHL_featureAnalysis.ipynb",
      "provenance": [],
      "collapsed_sections": [],
      "authorship_tag": "ABX9TyODr8bW53A20wcU/QdCHUQZ",
      "include_colab_link": true
    },
    "kernelspec": {
      "name": "python3",
      "display_name": "Python 3"
    }
  },
  "cells": [
    {
      "cell_type": "markdown",
      "metadata": {
        "id": "view-in-github",
        "colab_type": "text"
      },
      "source": [
        "<a href=\"https://colab.research.google.com/github/farhanfuadabir/SHL2020/blob/master/SHL_featureAnalysis.ipynb\" target=\"_parent\"><img src=\"https://colab.research.google.com/assets/colab-badge.svg\" alt=\"Open In Colab\"/></a>"
      ]
    },
    {
      "cell_type": "code",
      "metadata": {
        "id": "Xr9VAwk4wN2I",
        "outputId": "5805f272-fab7-45eb-b87a-fbfbeb5afbeb",
        "colab": {
          "base_uri": "https://localhost:8080/",
          "height": 122
        }
      },
      "source": [
        "from google.colab import drive\n",
        "drive.mount('/content/drive')"
      ],
      "execution_count": null,
      "outputs": [
        {
          "output_type": "stream",
          "text": [
            "Go to this URL in a browser: https://accounts.google.com/o/oauth2/auth?client_id=947318989803-6bn6qk8qdgf4n4g3pfee6491hc0brc4i.apps.googleusercontent.com&redirect_uri=urn%3aietf%3awg%3aoauth%3a2.0%3aoob&response_type=code&scope=email%20https%3a%2f%2fwww.googleapis.com%2fauth%2fdocs.test%20https%3a%2f%2fwww.googleapis.com%2fauth%2fdrive%20https%3a%2f%2fwww.googleapis.com%2fauth%2fdrive.photos.readonly%20https%3a%2f%2fwww.googleapis.com%2fauth%2fpeopleapi.readonly\n",
            "\n",
            "Enter your authorization code:\n",
            "··········\n",
            "Mounted at /content/drive\n"
          ],
          "name": "stdout"
        }
      ]
    },
    {
      "cell_type": "code",
      "metadata": {
        "id": "Ntj5FtxieTi1"
      },
      "source": [
        "def createBatch(data, batch_size = 1000, random_state=None):\n",
        "\n",
        "  \"\"\"\n",
        "  Randomly selects `batch_size` entries of each label from the dataset \n",
        "\n",
        "  Parameters:\n",
        "\n",
        "      data          : The dataset to create small batch from. \n",
        "                      This must be a DataFrame.\n",
        "      batch_size    : Batch size of each label\n",
        "      random_state  : Seed for the random number generator (if int), or numpy \n",
        "                      RandomState object.\n",
        "  \n",
        "  Returns:\n",
        "\n",
        "      Series or DataFrame\n",
        "  \"\"\"\n",
        "\n",
        "  y = data.label\n",
        "  num_label = y.nunique()\n",
        "  newDataBatch = pd.DataFrame(columns=data.columns)\n",
        "  \n",
        "  for i in range(1, num_label + 1):\n",
        "    data_i = data.loc[y == i, :].sample(n=batch_size, random_state=random_state)\n",
        "    newDataBatch = pd.concat([newDataBatch, data_i], axis=0)\n",
        "  return newDataBatch\n",
        "\n",
        "def random_split_half(data, random_state=123):\n",
        "\n",
        "  import pandas as pd\n",
        "\n",
        "  y = data.label\n",
        "  num_label = y.nunique()\n",
        "  newDataBatch1 = pd.DataFrame(columns=data.columns)\n",
        "  \n",
        "  for i in range(1, num_label + 1):\n",
        "    data_i = data.loc[y == i, :].sample(frac=0.5, random_state=random_state)\n",
        "    newDataBatch1 = pd.concat([newDataBatch1, data_i], axis=0)\n",
        "  newDataBatch2 = pd.concat([data, newDataBatch1], axis=0)\n",
        "  newDataBatch2 = newDataBatch2.drop_duplicates(keep=False)\n",
        "  return newDataBatch1, newDataBatch2\n",
        "\n",
        "def feature_scaling(X):\n",
        "\n",
        "  from sklearn.preprocessing import MinMaxScaler\n",
        "  \n",
        "  scaler = MinMaxScaler(feature_range=(-1,1))\n",
        "  X = scaler.fit_transform(X)\n",
        "  \n",
        "  return X"
      ],
      "execution_count": null,
      "outputs": []
    },
    {
      "cell_type": "code",
      "metadata": {
        "id": "F5eoxZAjvvwD",
        "outputId": "5f97c0e8-acae-45d7-a337-c8afa6fb1d4d",
        "colab": {
          "base_uri": "https://localhost:8080/",
          "height": 85
        }
      },
      "source": [
        "import pandas as pd\n",
        "import numpy as np\n",
        "\n",
        "\n",
        "path = '/content/drive/My Drive/SHL_2020_DATASET_PICKLED/'\n",
        "trainPrefix = 'train_2020'\n",
        "cvPrefix = 'validation_2020'\n",
        "position = '_hand'\n",
        "\n",
        "#Unpickle Train Set\n",
        "print('Unpickling from: ' + trainPrefix + position + '_DATA.pickle ...',end=' ')\n",
        "data_train = pd.read_pickle(path + trainPrefix + position + '_DATA.pickle')\n",
        "print('Done | Shape: ', data_train.shape)\n",
        "\n",
        "#Unpickle Validation Set\n",
        "print('Unpickling from: ' + cvPrefix + position + '_DATA.pickle ...',end=' ')\n",
        "data_cv = pd.read_pickle(path + cvPrefix + position + '_DATA.pickle')\n",
        "print('Done | Shape: ', data_cv.shape)\n",
        "\n",
        "# Check for nan\n",
        "if data_train.isna().any().any() == True:\n",
        "  print('\\nnan Detected in Train set')\n",
        "  # Drop nan rows\n",
        "  print('Dropping nan rows...',end=' ')\n",
        "  data_train.dropna(inplace=True)\n",
        "  print('Done | Shape: ', data_train.shape)\n",
        "\n",
        "if data_cv.isna().any().any() == True:\n",
        "  print('\\nnan Detected in Validation set')\n",
        "  # Drop nan rows\n",
        "  print('Dropping nan rows...',end=' ')\n",
        "  data_cv.dropna(inplace=True)\n",
        "  print('Done | Shape: ', data_cv.shape)\n",
        "\n",
        "# Extract X and y from train set\n",
        "X = data_train.drop('label', axis=1)\n",
        "y = data_train.label\n",
        "\n",
        "print('\\nX Shape: ', X.shape, ' |  y Shape: ', y.shape)\n",
        "\n",
        "# Extract X and y from validation set\n",
        "X_cv = data_cv.drop('label', axis=1)\n",
        "y_cv = data_cv.label\n"
      ],
      "execution_count": null,
      "outputs": [
        {
          "output_type": "stream",
          "text": [
            "Unpickling from: train_2020_hand_DATA.pickle ... Done | Shape:  (196072, 496)\n",
            "Unpickling from: validation_2020_hand_DATA.pickle ... Done | Shape:  (28789, 496)\n",
            "\n",
            "X Shape:  (196072, 495)  |  y Shape:  (196072,)\n"
          ],
          "name": "stdout"
        }
      ]
    },
    {
      "cell_type": "code",
      "metadata": {
        "id": "xt1zalAexVuF",
        "outputId": "4e414921-dedd-470d-bca8-1ea495a4f445",
        "colab": {
          "base_uri": "https://localhost:8080/",
          "height": 493
        }
      },
      "source": [
        "# Check instances of each lable\n",
        "\n",
        "print('Instances of each Label of the Dataset: ')\n",
        "print(y.value_counts())\n",
        "\n",
        "print('\\nCreating mini batch...', end=' ')\n",
        "data_batch = createBatch(data_train, batch_size=8000, random_state=123)\n",
        "print('Done | Shape: ', data_batch.shape)\n",
        "\n",
        "# Merge Half of validation set\n",
        "train_2, cv_test = random_split_half(data_cv, random_state=123)\n",
        "data_batch = pd.concat([data_batch, train_2], axis = 0)\n",
        "print('Merged Train Set Shape: ', data_batch.shape)\n",
        "\n",
        "# Extract X_test and y_test\n",
        "X_test = cv_test.drop('label', axis=1)\n",
        "y_test = cv_test.label\n",
        "\n",
        "print('\\nX_test Shape: ', X_test.shape, ' |  y_test Shape: ', y_test.shape)\n",
        "\n",
        "# Extract X_new and y_new\n",
        "X_new = data_batch.drop('label', axis=1)\n",
        "y_new = data_batch.label\n",
        "\n",
        "print('\\nX Shape: ', X_new.shape, ' |  y Shape: ', y_new.shape)\n",
        "\n",
        "print('\\nInstances of each Label of the new Dataset: ')\n",
        "print(y_new.value_counts())\n"
      ],
      "execution_count": null,
      "outputs": [
        {
          "output_type": "stream",
          "text": [
            "Instances of each Label of the Dataset: \n",
            "5.0    31733\n",
            "7.0    31253\n",
            "6.0    28326\n",
            "2.0    24544\n",
            "1.0    24456\n",
            "8.0    23834\n",
            "4.0    23473\n",
            "3.0     8453\n",
            "Name: label, dtype: int64\n",
            "\n",
            "Creating mini batch... Done | Shape:  (64000, 496)\n",
            "Merged Train Set Shape:  (78396, 496)\n",
            "\n",
            "X_test Shape:  (14393, 495)  |  y_test Shape:  (14393,)\n",
            "\n",
            "X Shape:  (78396, 495)  |  y Shape:  (78396,)\n",
            "\n",
            "Instances of each Label of the new Dataset: \n",
            "1.0    10984\n",
            "2.0    10612\n",
            "7.0    10181\n",
            "8.0    10171\n",
            "5.0    10048\n",
            "4.0     9204\n",
            "6.0     8918\n",
            "3.0     8278\n",
            "Name: label, dtype: int64\n"
          ],
          "name": "stdout"
        }
      ]
    },
    {
      "cell_type": "code",
      "metadata": {
        "id": "saG8NMhIjIQL",
        "outputId": "48f9d80f-7535-4ef0-b9f9-34863ad9d3fa",
        "colab": {
          "base_uri": "https://localhost:8080/",
          "height": 51
        }
      },
      "source": [
        "X_new_B = X_new.loc[:, (X_new != X_new.iloc[0]).any()]\n",
        "#X_new_B = feature_scaling(X_new_B)\n",
        "print(X_new_B.shape)\n",
        "#print(X_new_B.max())\n",
        "#print(X_new_B.min())\n",
        "\n",
        "X_test_new = X_test.loc[:, (X_new != X_new.iloc[0]).any()]\n",
        "#X_cv_new = feature_scaling(X_cv_new)\n",
        "print(X_test_new.shape)\n",
        "#print(X_cv_new.max())\n",
        "#print(X_cv_new.min())"
      ],
      "execution_count": null,
      "outputs": [
        {
          "output_type": "stream",
          "text": [
            "(78396, 452)\n",
            "(14393, 452)\n"
          ],
          "name": "stdout"
        }
      ]
    },
    {
      "cell_type": "code",
      "metadata": {
        "id": "fz7mK1xY6GjV",
        "outputId": "6fd366d2-a40c-4540-a814-ad0f263e2534",
        "colab": {
          "base_uri": "https://localhost:8080/",
          "height": 265
        }
      },
      "source": [
        "from sklearn.ensemble import ExtraTreesClassifier\n",
        "import matplotlib.pyplot as plt\n",
        "\n",
        "model = ExtraTreesClassifier()\n",
        "model.fit(X_new_B,y_new)\n",
        "\n",
        "#print(model.feature_importances_) #use inbuilt class feature_importances of tree based classifiers\n",
        "#plot graph of feature importances for better visualization\n",
        "feat_importances = pd.Series(model.feature_importances_, index=X_new_B.columns)\n",
        "feat_importances.nlargest(8).plot(kind='barh')\n",
        "plt.show()"
      ],
      "execution_count": null,
      "outputs": [
        {
          "output_type": "display_data",
          "data": {
            "image/png": "[encoded data removed]",
            "text/plain": [
              "<Figure size 432x288 with 1 Axes>"
            ]
          },
          "metadata": {
            "tags": [],
            "needs_background": "light"
          }
        }
      ]
    },
    {
      "cell_type": "code",
      "metadata": {
        "id": "orbhn99y4H9n",
        "outputId": "214c7265-6d7a-4441-b9c3-40ce3164cb9e",
        "colab": {
          "base_uri": "https://localhost:8080/",
          "height": 967
        }
      },
      "source": [
        "import numpy as np\n",
        "import matplotlib.pyplot as plt\n",
        "from sklearn.naive_bayes import GaussianNB\n",
        "from sklearn.svm import SVC\n",
        "from sklearn.datasets import load_digits\n",
        "from sklearn.model_selection import learning_curve\n",
        "from sklearn.model_selection import ShuffleSplit\n",
        "\n",
        "\n",
        "def plot_learning_curve(estimator, title, X, y, axes=None, ylim=None, cv=None,\n",
        "                        n_jobs=None, train_sizes=np.linspace(.1, 1.0, 5)):\n",
        "    \"\"\"\n",
        "    Generate 3 plots: the test and training learning curve, the training\n",
        "    samples vs fit times curve, the fit times vs score curve.\n",
        "\n",
        "    Parameters\n",
        "    ----------\n",
        "    estimator : object type that implements the \"fit\" and \"predict\" methods\n",
        "        An object of that type which is cloned for each validation.\n",
        "\n",
        "    title : string\n",
        "        Title for the chart.\n",
        "\n",
        "    X : array-like, shape (n_samples, n_features)\n",
        "        Training vector, where n_samples is the number of samples and\n",
        "        n_features is the number of features.\n",
        "\n",
        "    y : array-like, shape (n_samples) or (n_samples, n_features), optional\n",
        "        Target relative to X for classification or regression;\n",
        "        None for unsupervised learning.\n",
        "\n",
        "    axes : array of 3 axes, optional (default=None)\n",
        "        Axes to use for plotting the curves.\n",
        "\n",
        "    ylim : tuple, shape (ymin, ymax), optional\n",
        "        Defines minimum and maximum yvalues plotted.\n",
        "\n",
        "    cv : int, cross-validation generator or an iterable, optional\n",
        "        Determines the cross-validation splitting strategy.\n",
        "        Possible inputs for cv are:\n",
        "\n",
        "          - None, to use the default 5-fold cross-validation,\n",
        "          - integer, to specify the number of folds.\n",
        "          - :term:`CV splitter`,\n",
        "          - An iterable yielding (train, test) splits as arrays of indices.\n",
        "\n",
        "        For integer/None inputs, if ``y`` is binary or multiclass,\n",
        "        :class:`StratifiedKFold` used. If the estimator is not a classifier\n",
        "        or if ``y`` is neither binary nor multiclass, :class:`KFold` is used.\n",
        "\n",
        "        Refer :ref:`User Guide <cross_validation>` for the various\n",
        "        cross-validators that can be used here.\n",
        "\n",
        "    n_jobs : int or None, optional (default=None)\n",
        "        Number of jobs to run in parallel.\n",
        "        ``None`` means 1 unless in a :obj:`joblib.parallel_backend` context.\n",
        "        ``-1`` means using all processors. See :term:`Glossary <n_jobs>`\n",
        "        for more details.\n",
        "\n",
        "    train_sizes : array-like, shape (n_ticks,), dtype float or int\n",
        "        Relative or absolute numbers of training examples that will be used to\n",
        "        generate the learning curve. If the dtype is float, it is regarded as a\n",
        "        fraction of the maximum size of the training set (that is determined\n",
        "        by the selected validation method), i.e. it has to be within (0, 1].\n",
        "        Otherwise it is interpreted as absolute sizes of the training sets.\n",
        "        Note that for classification the number of samples usually have to\n",
        "        be big enough to contain at least one sample from each class.\n",
        "        (default: np.linspace(0.1, 1.0, 5))\n",
        "    \"\"\"\n",
        "    if axes is None:\n",
        "        _, axes = plt.subplots(1, 3, figsize=(20, 5))\n",
        "\n",
        "    axes[0].set_title(title)\n",
        "    if ylim is not None:\n",
        "        axes[0].set_ylim(*ylim)\n",
        "    axes[0].set_xlabel(\"Training examples\")\n",
        "    axes[0].set_ylabel(\"Score\")\n",
        "\n",
        "    train_sizes, train_scores, test_scores, fit_times, _ = \\\n",
        "        learning_curve(estimator, X, y, cv=cv, n_jobs=n_jobs,\n",
        "                       train_sizes=train_sizes,\n",
        "                       return_times=True)\n",
        "    train_scores_mean = np.mean(train_scores, axis=1)\n",
        "    train_scores_std = np.std(train_scores, axis=1)\n",
        "    test_scores_mean = np.mean(test_scores, axis=1)\n",
        "    test_scores_std = np.std(test_scores, axis=1)\n",
        "    fit_times_mean = np.mean(fit_times, axis=1)\n",
        "    fit_times_std = np.std(fit_times, axis=1)\n",
        "\n",
        "    # Plot learning curve\n",
        "    axes[0].grid()\n",
        "    axes[0].fill_between(train_sizes, train_scores_mean - train_scores_std,\n",
        "                         train_scores_mean + train_scores_std, alpha=0.1,\n",
        "                         color=\"r\")\n",
        "    axes[0].fill_between(train_sizes, test_scores_mean - test_scores_std,\n",
        "                         test_scores_mean + test_scores_std, alpha=0.1,\n",
        "                         color=\"g\")\n",
        "    axes[0].plot(train_sizes, train_scores_mean, 'o-', color=\"r\",\n",
        "                 label=\"Training score\")\n",
        "    axes[0].plot(train_sizes, test_scores_mean, 'o-', color=\"g\",\n",
        "                 label=\"Cross-validation score\")\n",
        "    axes[0].legend(loc=\"best\")\n",
        "\n",
        "    '''\n",
        "    # Plot n_samples vs fit_times\n",
        "    axes[1].grid()\n",
        "    axes[1].plot(train_sizes, fit_times_mean, 'o-')\n",
        "    axes[1].fill_between(train_sizes, fit_times_mean - fit_times_std,\n",
        "                         fit_times_mean + fit_times_std, alpha=0.1)\n",
        "    axes[1].set_xlabel(\"Training examples\")\n",
        "    axes[1].set_ylabel(\"fit_times\")\n",
        "    axes[1].set_title(\"Scalability of the model\")\n",
        "\n",
        "    # Plot fit_time vs score\n",
        "    axes[2].grid()\n",
        "    axes[2].plot(fit_times_mean, test_scores_mean, 'o-')\n",
        "    axes[2].fill_between(fit_times_mean, test_scores_mean - test_scores_std,\n",
        "                         test_scores_mean + test_scores_std, alpha=0.1)\n",
        "    axes[2].set_xlabel(\"fit_times\")\n",
        "    axes[2].set_ylabel(\"Score\")\n",
        "    axes[2].set_title(\"Performance of the model\")\n",
        "    '''\n",
        "    return plt\n",
        "\n",
        "\n",
        "fig, axes = plt.subplots(3, 2, figsize=(10, 15))\n",
        "#fig, axes = plt.subplots(1, 2, figsize=(10, 15))\n",
        "\n",
        "###############################################################################\n",
        "title = \"Random Forest\"\n",
        "from sklearn.ensemble import RandomForestClassifier\n",
        "estimator = RandomForestClassifier()\n",
        "\n",
        "cv = ShuffleSplit(n_splits=3, test_size=0.2, random_state=123)\n",
        "\n",
        "plot_learning_curve(estimator, title, X_new_B, y_new, axes=axes[:, 0], ylim=(0.1, 1.01),\n",
        "                    cv=cv, n_jobs=-1)\n",
        "\n",
        "###############################################################################\n",
        "title = \"Learning Curves (XGBoost)\"\n",
        "from xgboost import XGBClassifier\n",
        "estimator = XGBClassifier()\n",
        "\n",
        "cv = ShuffleSplit(n_splits=3, test_size=0.2, random_state=123)\n",
        "\n",
        "plot_learning_curve(estimator, title, X_new_B, y_new, axes=axes[:, 1], ylim=(0.1, 1.01),\n",
        "                    cv=cv, n_jobs=-1)\n",
        "\n",
        "plt.show()"
      ],
      "execution_count": null,
      "outputs": [
        {
          "output_type": "stream",
          "text": [
            "/usr/local/lib/python3.6/dist-packages/joblib/externals/loky/process_executor.py:691: UserWarning: A worker stopped while some jobs were given to the executor. This can be caused by a too short worker timeout or by a memory leak.\n",
            "  \"timeout or by a memory leak.\", UserWarning\n",
            "/usr/local/lib/python3.6/dist-packages/joblib/externals/loky/process_executor.py:691: UserWarning: A worker stopped while some jobs were given to the executor. This can be caused by a too short worker timeout or by a memory leak.\n",
            "  \"timeout or by a memory leak.\", UserWarning\n"
          ],
          "name": "stderr"
        },
        {
          "output_type": "display_data",
          "data": {
            "image/png": "[encoded data removed]",
            "text/plain": [
              "<Figure size 720x1080 with 6 Axes>"
            ]
          },
          "metadata": {
            "tags": [],
            "needs_background": "light"
          }
        }
      ]
    },
    {
      "cell_type": "code",
      "metadata": {
        "id": "paUr52L87VCI",
        "outputId": "32eb226e-4c07-479d-db93-2800f434f38d",
        "colab": {
          "base_uri": "https://localhost:8080/",
          "height": 85
        }
      },
      "source": [
        "from xgboost import XGBClassifier\n",
        "from sklearn.ensemble import RandomForestClassifier\n",
        "from sklearn.model_selection import cross_val_score\n",
        "\n",
        "clf = XGBClassifier()\n",
        "scores = cross_val_score(clf, X_new_B, y_new , cv=4,scoring='accuracy')\n",
        "print(\"XGBoost Accuracy: %0.2f (+/- %0.2f)\" % (scores.mean(), scores.std() * 2))\n",
        "print(scores)\n",
        "\n",
        "clf2 = RandomForestClassifier()\n",
        "scores = cross_val_score(clf2, X_new_B, y_new, cv=4,scoring='accuracy')\n",
        "print(\"Random Forest Accuracy: %0.2f (+/- %0.2f)\" % (scores.mean(), scores.std() * 2))\n",
        "print(scores)"
      ],
      "execution_count": null,
      "outputs": [
        {
          "output_type": "stream",
          "text": [
            "XGBoost Accuracy: 0.82 (+/- 0.04)\n",
            "[0.78918279 0.79957889 0.84326885 0.82892486]\n",
            "Random Forest Accuracy: 0.82 (+/- 0.05)\n",
            "[0.79247269 0.80221082 0.85840242 0.84261087]\n"
          ],
          "name": "stdout"
        }
      ]
    }
  ]
}