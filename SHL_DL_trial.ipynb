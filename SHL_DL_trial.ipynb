{
  "nbformat": 4,
  "nbformat_minor": 0,
  "metadata": {
    "colab": {
      "name": "SHL_DL_trial.ipynb",
      "provenance": [],
      "include_colab_link": true
    },
    "kernelspec": {
      "name": "python3",
      "display_name": "Python 3"
    }
  },
  "cells": [
    {
      "cell_type": "markdown",
      "metadata": {
        "id": "view-in-github",
        "colab_type": "text"
      },
      "source": [
        "<a href=\"https://colab.research.google.com/github/farhanfuadabir/SHL2020/blob/master/SHL_DL_trial.ipynb\" target=\"_parent\"><img src=\"https://colab.research.google.com/assets/colab-badge.svg\" alt=\"Open In Colab\"/></a>"
      ]
    },
    {
      "cell_type": "code",
      "metadata": {
        "id": "jo8kcGEXTTkR",
        "outputId": "b22b55a7-648d-43d4-c9e8-ec1c1ccbc7b9",
        "colab": {
          "base_uri": "https://localhost:8080/",
          "height": 122
        }
      },
      "source": [
        "from google.colab import drive\n",
        "drive.mount('/content/drive')"
      ],
      "execution_count": null,
      "outputs": [
        {
          "output_type": "stream",
          "text": [
            "Go to this URL in a browser: https://accounts.google.com/o/oauth2/auth?client_id=947318989803-6bn6qk8qdgf4n4g3pfee6491hc0brc4i.apps.googleusercontent.com&redirect_uri=urn%3aietf%3awg%3aoauth%3a2.0%3aoob&response_type=code&scope=email%20https%3a%2f%2fwww.googleapis.com%2fauth%2fdocs.test%20https%3a%2f%2fwww.googleapis.com%2fauth%2fdrive%20https%3a%2f%2fwww.googleapis.com%2fauth%2fdrive.photos.readonly%20https%3a%2f%2fwww.googleapis.com%2fauth%2fpeopleapi.readonly\n",
            "\n",
            "Enter your authorization code:\n",
            "··········\n",
            "Mounted at /content/drive\n"
          ],
          "name": "stdout"
        }
      ]
    },
    {
      "cell_type": "code",
      "metadata": {
        "id": "hAvA8SwyMxbi"
      },
      "source": [
        "def createBatch(data, batch_size = 1000, random_state=None):\n",
        "\n",
        "  \"\"\"\n",
        "  Randomly selects `batch_size` entries of each label from the dataset \n",
        "\n",
        "  Parameters:\n",
        "\n",
        "      data          : The dataset to create small batch from. \n",
        "                      This must be a DataFrame.\n",
        "      batch_size    : Batch size of each label\n",
        "      random_state  : Seed for the random number generator (if int), or numpy \n",
        "                      RandomState object.\n",
        "  \n",
        "  Returns:\n",
        "\n",
        "      Series or DataFrame\n",
        "  \"\"\"\n",
        "\n",
        "  y = data.label\n",
        "  num_label = y.nunique()\n",
        "  newDataBatch = pd.DataFrame(columns=data.columns)\n",
        "  \n",
        "  for i in range(1, num_label + 1):\n",
        "    data_i = data.loc[y == i, :].sample(n=batch_size, random_state=random_state)\n",
        "    newDataBatch = pd.concat([newDataBatch, data_i], axis=0)\n",
        "  return newDataBatch\n",
        "\n",
        "\n",
        "def random_split_half(data, random_state=123):\n",
        "\n",
        "  import pandas as pd\n",
        "\n",
        "  y = data.label\n",
        "  num_label = y.nunique()\n",
        "  newDataBatch1 = pd.DataFrame(columns=data.columns)\n",
        "  \n",
        "  for i in range(1, num_label + 1):\n",
        "    data_i = data.loc[y == i, :].sample(frac=0.5, random_state=random_state)\n",
        "    newDataBatch1 = pd.concat([newDataBatch1, data_i], axis=0)\n",
        "  newDataBatch2 = pd.concat([data, newDataBatch1], axis=0)\n",
        "  newDataBatch2 = newDataBatch2.drop_duplicates(keep=False)\n",
        "  return newDataBatch1, newDataBatch2\n",
        "\n",
        "\n",
        "def process_train_validation(trainSet, valSet=None, trainBatch=1000,\n",
        "                             splitValSet=False, random_state=1234, \n",
        "                             removeConstantColumn=True, scaleFeatures=True):\n",
        "\n",
        "  import pandas as pd\n",
        "  from sklearn.preprocessing import MinMaxScaler\n",
        "\n",
        "  print('Given Train Set Shape: ', trainSet.shape)\n",
        "  print('Given Validation Set Shape: ', valSet.shape)\n",
        "\n",
        "  if trainBatch != None:\n",
        "    print('\\nCreating train batch...', end=' ')\n",
        "    trainSet = createBatch(trainSet, batch_size=trainBatch, \n",
        "                          random_state=random_state)\n",
        "    print('Done | Shape: ', trainSet.shape)\n",
        "\n",
        "  if splitValSet == True:\n",
        "    print('Merging train batch with half validation set...', end=' ')\n",
        "    valTrain, valSet = random_split_half(valSet, random_state=random_state)\n",
        "    trainSet = pd.concat([trainSet, valTrain], axis = 0)\n",
        "    print('Done | Shape: ', trainSet.shape)\n",
        "\n",
        "  X_train = trainSet.drop('label', axis=1)\n",
        "  y_train = trainSet.label\n",
        "  X_val = valSet.drop('label', axis=1)\n",
        "  y_val = valSet.label\n",
        "\n",
        "  if removeConstantColumn == True:\n",
        "    X_temp = X_train\n",
        "    X_train = X_train.loc[:, (X_temp != X_temp.iloc[0]).any()]\n",
        "    X_val = X_val.loc[:, (X_temp != X_temp.iloc[0]).any()]\n",
        "  \n",
        "  if scaleFeatures == True:\n",
        "    scaler = MinMaxScaler(feature_range=(-1,1))\n",
        "    X_train = scaler.fit_transform(X_train)\n",
        "    X_val = scaler.fit_transform(X_val)\n",
        "\n",
        "  print('\\nX_train Shape: ', X_train.shape, ' |  y_train Shape: ', y_train.shape)\n",
        "  print('X_val Shape: ', X_val.shape, ' |  y_val Shape: ', y_val.shape)\n",
        "\n",
        "  print('\\nInstances of each Label of the Train Set: ')\n",
        "  print(y_train.value_counts())\n",
        "\n",
        "  print('\\nInstances of each Label of the Validation Set: ')\n",
        "  print(y_val.value_counts())\n",
        "\n",
        "  return X_train, y_train, X_val, y_val\n"
      ],
      "execution_count": null,
      "outputs": []
    },
    {
      "cell_type": "code",
      "metadata": {
        "id": "CqvANhCgTlEF",
        "outputId": "0119f405-1183-4a27-d2bd-155cae72d12c",
        "colab": {
          "base_uri": "https://localhost:8080/",
          "height": 68
        }
      },
      "source": [
        "#Import Packages\n",
        "\n",
        "import pandas as pd\n",
        "import numpy as np\n",
        "from joblib import load, dump\n",
        "import matplotlib.pyplot as plt\n",
        "from sklearn.model_selection import train_test_split\n",
        "from sklearn.metrics import classification_report, confusion_matrix\n",
        "from sklearn import preprocessing\n",
        "from sklearn.preprocessing import StandardScaler \n",
        "from keras.models import Sequential\n",
        "from keras.layers import Dense\n",
        "from keras.utils import to_categorical\n",
        "\n",
        "path = '/content/drive/My Drive/SHL Dataset Fuad/'\n",
        "combination = 1\n",
        "trainFile = 'TRAIN_HAND_ALL_ACTIVITY'\n",
        "valFile = 'VAL_HAND_ALL_ACTIVITY'\n",
        "\n",
        "#Unpickle Train Set\n",
        "print('Unpickling from: ' + 'Combination ' + str(combination) + '/' + \n",
        "      trainFile + '.joblib ...',end=' ')\n",
        "data_train = load(path + 'Combination ' + str(combination) + '/' + trainFile + \n",
        "                  '.joblib')\n",
        "print('Done | Shape: ', data_train.shape)\n",
        "\n",
        "#Unpickle Validation Set\n",
        "print('Unpickling from: ' + 'Combination ' + str(combination) + '/' + \n",
        "      valFile + '.joblib ...',end=' ')\n",
        "data_val = load(path + 'Combination ' + str(combination) + '/' + valFile + \n",
        "                  '.joblib')\n",
        "print('Done | Shape: ', data_val.shape)\n",
        "\n",
        "\n",
        "# Check for nan\n",
        "if data_train.isna().any().any() == True:\n",
        "  print('\\nnan Detected in Train set')\n",
        "  # Drop nan rows\n",
        "  print('Dropping nan rows...',end=' ')\n",
        "  data_train.dropna(inplace=True)\n",
        "  print('Done | Shape: ', data_train.shape)\n",
        "\n",
        "if data_val.isna().any().any() == True:\n",
        "  print('\\nnan Detected in Validation set')\n",
        "  # Drop nan rows\n",
        "  print('Dropping nan rows...',end=' ')\n",
        "  data_val.dropna(inplace=True)\n",
        "  print('Done | Shape: ', data_val.shape)\n"
      ],
      "execution_count": null,
      "outputs": [
        {
          "output_type": "stream",
          "text": [
            "Using TensorFlow backend.\n"
          ],
          "name": "stderr"
        },
        {
          "output_type": "stream",
          "text": [
            "Unpickling from: Combination 1/TRAIN_HAND_ALL_ACTIVITY.joblib ... Done | Shape:  (126231, 496)\n",
            "Unpickling from: Combination 1/VAL_HAND_ALL_ACTIVITY.joblib ... Done | Shape:  (28197, 496)\n"
          ],
          "name": "stdout"
        }
      ]
    },
    {
      "cell_type": "code",
      "metadata": {
        "id": "CR0Kn_ZEUSjy",
        "outputId": "540a0619-a100-499e-fac8-9c2f5f6529c0",
        "colab": {
          "base_uri": "https://localhost:8080/",
          "height": 1000
        }
      },
      "source": [
        "X_train, y_train, X_test, y_test = process_train_validation(data_train, data_val, \n",
        "                                                            trainBatch=1000, \n",
        "                                                            splitValSet=False, \n",
        "                                                            random_state=1234)\n",
        "\n",
        "y_train = y_train-1\n",
        "print('\\nLabel of the Train Set: ')\n",
        "print(y_train.value_counts())\n",
        "\n",
        "y_test = y_test-1\n",
        "print('\\nLabel of the Validation Set: ')\n",
        "print(y_test.value_counts())\n",
        "\n",
        "y_train = to_categorical(y_train,num_classes=8)\n",
        "y_test = to_categorical(y_test,num_classes=8)\n",
        "\n",
        "print(y_train.shape,'\\n',y_train)"
      ],
      "execution_count": null,
      "outputs": [
        {
          "output_type": "stream",
          "text": [
            "Given Train Set Shape:  (126231, 496)\n",
            "Given Validation Set Shape:  (28197, 496)\n",
            "\n",
            "Creating train batch... Done | Shape:  (8000, 496)\n",
            "\n",
            "X_train Shape:  (8000, 451)  |  y_train Shape:  (8000,)\n",
            "X_val Shape:  (28197, 451)  |  y_val Shape:  (28197,)\n",
            "\n",
            "Instances of each Label of the Train Set: \n",
            "8.0    1000\n",
            "7.0    1000\n",
            "6.0    1000\n",
            "5.0    1000\n",
            "4.0    1000\n",
            "3.0    1000\n",
            "2.0    1000\n",
            "1.0    1000\n",
            "Name: label, dtype: int64\n",
            "\n",
            "Instances of each Label of the Validation Set: \n",
            "1.0    6313\n",
            "5.0    5143\n",
            "2.0    4676\n",
            "7.0    3098\n",
            "4.0    3082\n",
            "6.0    2459\n",
            "8.0    2053\n",
            "3.0    1373\n",
            "Name: label, dtype: int64\n",
            "\n",
            "Label of the Train Set: \n",
            "7.0    1000\n",
            "6.0    1000\n",
            "5.0    1000\n",
            "4.0    1000\n",
            "3.0    1000\n",
            "2.0    1000\n",
            "1.0    1000\n",
            "0.0    1000\n",
            "Name: label, dtype: int64\n",
            "\n",
            "Label of the Validation Set: \n",
            "0.0    6313\n",
            "4.0    5143\n",
            "1.0    4676\n",
            "6.0    3098\n",
            "3.0    3082\n",
            "5.0    2459\n",
            "7.0    2053\n",
            "2.0    1373\n",
            "Name: label, dtype: int64\n",
            "(8000, 8) \n",
            " [[1. 0. 0. ... 0. 0. 0.]\n",
            " [1. 0. 0. ... 0. 0. 0.]\n",
            " [1. 0. 0. ... 0. 0. 0.]\n",
            " ...\n",
            " [0. 0. 0. ... 0. 0. 1.]\n",
            " [0. 0. 0. ... 0. 0. 1.]\n",
            " [0. 0. 0. ... 0. 0. 1.]]\n"
          ],
          "name": "stdout"
        }
      ]
    },
    {
      "cell_type": "code",
      "metadata": {
        "id": "Oyyowvx9YSM_"
      },
      "source": [
        "from keras import backend as K\n",
        "\n",
        "def recall_m(y_true, y_pred):\n",
        "  true_positives = K.sum(K.round(K.clip(y_true * y_pred, 0, 1)))\n",
        "  possible_positives = K.sum(K.round(K.clip(y_true, 0, 1)))\n",
        "  recall = true_positives / (possible_positives + K.epsilon())\n",
        "  return recall\n",
        "\n",
        "def precision_m(y_true, y_pred):\n",
        "  true_positives = K.sum(K.round(K.clip(y_true * y_pred, 0, 1)))\n",
        "  predicted_positives = K.sum(K.round(K.clip(y_pred, 0, 1)))\n",
        "  precision = true_positives / (predicted_positives + K.epsilon())\n",
        "  return precision\n",
        "\n",
        "def f1_m(y_true, y_pred):\n",
        "  precision = precision_m(y_true, y_pred)\n",
        "  recall = recall_m(y_true, y_pred)\n",
        "  return 2*((precision*recall)/(precision+recall+K.epsilon()))\n",
        "\n",
        "\n",
        "model = Sequential()\n",
        "model.add(Dense(512, input_dim=X_train.shape[1], activation='relu'))\n",
        "model.add(Dense(256, activation='relu'))\n",
        "model.add(Dense(180, activation='relu'))\n",
        "model.add(Dense(128, activation='relu'))\n",
        "model.add(Dense(86, activation='relu'))\n",
        "model.add(Dense(64, activation='relu'))\n",
        "model.add(Dense(32, activation='relu'))\n",
        "model.add(Dense(24, activation='relu'))\n",
        "model.add(Dense(12, activation='relu'))\n",
        "model.add(Dense(8, activation='softmax'))\n",
        "model.compile(loss='categorical_crossentropy', optimizer='adam', \n",
        "              metrics=['categorical_accuracy',f1_m,precision_m, recall_m])"
      ],
      "execution_count": null,
      "outputs": []
    },
    {
      "cell_type": "code",
      "metadata": {
        "id": "m7INSwJDKpRf",
        "outputId": "8def3a47-af4d-4f43-ccb5-138fb4d413b4",
        "colab": {
          "base_uri": "https://localhost:8080/",
          "height": 295
        }
      },
      "source": [
        "import matplotlib.pyplot as plt\n",
        "\n",
        "\n",
        "#history = model.fit(X_train, y_train, validation_split=0.33, epochs=50, batch_size=500, verbose=1)\n",
        "# list all data in history\n",
        "#print(history.history.keys())\n",
        "# summarize history for accuracy\n",
        "\n",
        "plt.plot(history.history['categorical_accuracy'])\n",
        "plt.plot(history.history['val_categorical_accuracy'])\n",
        "plt.title('Model Accuracy')\n",
        "plt.ylabel('accuracy')\n",
        "plt.xlabel('epoch')\n",
        "plt.legend(['train', 'test'], loc='upper left')\n",
        "plt.show()\n"
      ],
      "execution_count": null,
      "outputs": [
        {
          "output_type": "display_data",
          "data": {
            "image/png": "[encoded data removed]",
            "text/plain": [
              "<Figure size 432x288 with 1 Axes>"
            ]
          },
          "metadata": {
            "tags": [],
            "needs_background": "light"
          }
        }
      ]
    },
    {
      "cell_type": "code",
      "metadata": {
        "id": "K3jq-wgAVo9x",
        "outputId": "87ebbd38-b30d-47bd-e74d-9be7056297ed",
        "colab": {
          "base_uri": "https://localhost:8080/",
          "height": 1000
        }
      },
      "source": [
        "import time\n",
        "\n",
        "t_start = time.clock()\n",
        "\n",
        "model.fit(X_train, y_train, epochs=50, batch_size=500)\n",
        "\n",
        "t_end = time.clock()\n",
        "\n",
        "print('\\n\\n\\n\\n\\n')\n",
        "\n",
        "#_, accuracy_train = model.evaluate(X_train, y_train)\n",
        "loss_train, accuracy_train, f1_score_train, precision_train, recall_train = model.evaluate(X_train, y_train, verbose=1)\n",
        "print('Train Accuracy: %.2f' % (accuracy_train*100))\n",
        "print('Train F1 Score: %.2f' % (f1_score_train*100))\n",
        "print('Train Time: ', t_end - t_start)\n",
        "\n",
        "t_start = time.clock()\n",
        "\n",
        "#_, accuracy_test = model.evaluate(X_test, y_test)\n",
        "loss_test, accuracy_test, f1_score_test, precision_test, recall_test = model.evaluate(X_test, y_test, verbose=1)\n",
        "print('Test Accuracy: %.2f' % (accuracy_test*100))\n",
        "print('Test F1 Score: %.2f' % (f1_score_test*100))\n",
        "\n",
        "t_end = time.clock()\n",
        "print('Test Time: ', t_end - t_start)\n"
      ],
      "execution_count": null,
      "outputs": [
        {
          "output_type": "stream",
          "text": [
            "Epoch 1/50\n",
            "8000/8000 [==============================] - 1s 69us/step - loss: 0.7455 - categorical_accuracy: 0.7105 - f1_m: 0.6971 - precision_m: 0.8302 - recall_m: 0.6009\n",
            "Epoch 2/50\n",
            "8000/8000 [==============================] - 1s 67us/step - loss: 0.7206 - categorical_accuracy: 0.7182 - f1_m: 0.7032 - precision_m: 0.8290 - recall_m: 0.6106\n",
            "Epoch 3/50\n",
            "8000/8000 [==============================] - 1s 68us/step - loss: 0.7635 - categorical_accuracy: 0.6999 - f1_m: 0.6867 - precision_m: 0.8219 - recall_m: 0.5901\n",
            "Epoch 4/50\n",
            "8000/8000 [==============================] - 1s 69us/step - loss: 0.6992 - categorical_accuracy: 0.7274 - f1_m: 0.7156 - precision_m: 0.8336 - recall_m: 0.6273\n",
            "Epoch 5/50\n",
            "8000/8000 [==============================] - 1s 67us/step - loss: 0.7096 - categorical_accuracy: 0.7258 - f1_m: 0.7118 - precision_m: 0.8251 - recall_m: 0.6261\n",
            "Epoch 6/50\n",
            "8000/8000 [==============================] - 1s 68us/step - loss: 0.6722 - categorical_accuracy: 0.7404 - f1_m: 0.7317 - precision_m: 0.8392 - recall_m: 0.6489\n",
            "Epoch 7/50\n",
            "8000/8000 [==============================] - 1s 67us/step - loss: 0.6685 - categorical_accuracy: 0.7361 - f1_m: 0.7278 - precision_m: 0.8330 - recall_m: 0.6464\n",
            "Epoch 8/50\n",
            "8000/8000 [==============================] - 1s 68us/step - loss: 0.6736 - categorical_accuracy: 0.7364 - f1_m: 0.7320 - precision_m: 0.8356 - recall_m: 0.6515\n",
            "Epoch 9/50\n",
            "8000/8000 [==============================] - 1s 67us/step - loss: 0.6417 - categorical_accuracy: 0.7525 - f1_m: 0.7441 - precision_m: 0.8387 - recall_m: 0.6689\n",
            "Epoch 10/50\n",
            "8000/8000 [==============================] - 1s 69us/step - loss: 0.6608 - categorical_accuracy: 0.7480 - f1_m: 0.7397 - precision_m: 0.8347 - recall_m: 0.6645\n",
            "Epoch 11/50\n",
            "8000/8000 [==============================] - 1s 67us/step - loss: 0.6488 - categorical_accuracy: 0.7415 - f1_m: 0.7387 - precision_m: 0.8272 - recall_m: 0.6678\n",
            "Epoch 12/50\n",
            "8000/8000 [==============================] - 1s 69us/step - loss: 0.6140 - categorical_accuracy: 0.7632 - f1_m: 0.7583 - precision_m: 0.8488 - recall_m: 0.6855\n",
            "Epoch 13/50\n",
            "8000/8000 [==============================] - 1s 68us/step - loss: 0.6080 - categorical_accuracy: 0.7656 - f1_m: 0.7600 - precision_m: 0.8426 - recall_m: 0.6924\n",
            "Epoch 14/50\n",
            "8000/8000 [==============================] - 1s 68us/step - loss: 0.6034 - categorical_accuracy: 0.7697 - f1_m: 0.7656 - precision_m: 0.8412 - recall_m: 0.7025\n",
            "Epoch 15/50\n",
            "8000/8000 [==============================] - 1s 67us/step - loss: 0.6231 - categorical_accuracy: 0.7599 - f1_m: 0.7598 - precision_m: 0.8388 - recall_m: 0.6946\n",
            "Epoch 16/50\n",
            "8000/8000 [==============================] - 1s 68us/step - loss: 0.6003 - categorical_accuracy: 0.7719 - f1_m: 0.7676 - precision_m: 0.8466 - recall_m: 0.7021\n",
            "Epoch 17/50\n",
            "8000/8000 [==============================] - 1s 67us/step - loss: 0.5969 - categorical_accuracy: 0.7696 - f1_m: 0.7695 - precision_m: 0.8397 - recall_m: 0.7103\n",
            "Epoch 18/50\n",
            "8000/8000 [==============================] - 1s 67us/step - loss: 0.6068 - categorical_accuracy: 0.7675 - f1_m: 0.7647 - precision_m: 0.8389 - recall_m: 0.7027\n",
            "Epoch 19/50\n",
            "8000/8000 [==============================] - 1s 68us/step - loss: 0.5864 - categorical_accuracy: 0.7703 - f1_m: 0.7691 - precision_m: 0.8471 - recall_m: 0.7044\n",
            "Epoch 20/50\n",
            "8000/8000 [==============================] - 1s 70us/step - loss: 0.5524 - categorical_accuracy: 0.7911 - f1_m: 0.7891 - precision_m: 0.8522 - recall_m: 0.7350\n",
            "Epoch 21/50\n",
            "8000/8000 [==============================] - 1s 66us/step - loss: 0.5694 - categorical_accuracy: 0.7793 - f1_m: 0.7811 - precision_m: 0.8502 - recall_m: 0.7226\n",
            "Epoch 22/50\n",
            "8000/8000 [==============================] - 1s 66us/step - loss: 0.5480 - categorical_accuracy: 0.7921 - f1_m: 0.7941 - precision_m: 0.8703 - recall_m: 0.7302\n",
            "Epoch 23/50\n",
            "8000/8000 [==============================] - 1s 70us/step - loss: 0.5163 - categorical_accuracy: 0.8039 - f1_m: 0.8047 - precision_m: 0.8650 - recall_m: 0.7524\n",
            "Epoch 24/50\n",
            "8000/8000 [==============================] - 1s 66us/step - loss: 0.5222 - categorical_accuracy: 0.7972 - f1_m: 0.7984 - precision_m: 0.8559 - recall_m: 0.7482\n",
            "Epoch 25/50\n",
            "8000/8000 [==============================] - 1s 68us/step - loss: 0.5207 - categorical_accuracy: 0.8033 - f1_m: 0.8007 - precision_m: 0.8577 - recall_m: 0.7510\n",
            "Epoch 26/50\n",
            "8000/8000 [==============================] - 1s 69us/step - loss: 0.5000 - categorical_accuracy: 0.8096 - f1_m: 0.8107 - precision_m: 0.8691 - recall_m: 0.7597\n",
            "Epoch 27/50\n",
            "8000/8000 [==============================] - 1s 68us/step - loss: 0.5291 - categorical_accuracy: 0.7983 - f1_m: 0.7963 - precision_m: 0.8527 - recall_m: 0.7470\n",
            "Epoch 28/50\n",
            "8000/8000 [==============================] - 1s 67us/step - loss: 0.5127 - categorical_accuracy: 0.8036 - f1_m: 0.8024 - precision_m: 0.8624 - recall_m: 0.7503\n",
            "Epoch 29/50\n",
            "8000/8000 [==============================] - 1s 69us/step - loss: 0.5061 - categorical_accuracy: 0.8138 - f1_m: 0.8108 - precision_m: 0.8618 - recall_m: 0.7655\n",
            "Epoch 30/50\n",
            "8000/8000 [==============================] - 1s 70us/step - loss: 0.4886 - categorical_accuracy: 0.8121 - f1_m: 0.8140 - precision_m: 0.8645 - recall_m: 0.7692\n",
            "Epoch 31/50\n",
            "8000/8000 [==============================] - 1s 73us/step - loss: 0.4861 - categorical_accuracy: 0.8175 - f1_m: 0.8202 - precision_m: 0.8772 - recall_m: 0.7704\n",
            "Epoch 32/50\n",
            "8000/8000 [==============================] - 1s 76us/step - loss: 0.4954 - categorical_accuracy: 0.8155 - f1_m: 0.8164 - precision_m: 0.8666 - recall_m: 0.7719\n",
            "Epoch 33/50\n",
            "8000/8000 [==============================] - 1s 70us/step - loss: 0.4626 - categorical_accuracy: 0.8281 - f1_m: 0.8253 - precision_m: 0.8805 - recall_m: 0.7770\n",
            "Epoch 34/50\n",
            "8000/8000 [==============================] - 1s 70us/step - loss: 0.4282 - categorical_accuracy: 0.8391 - f1_m: 0.8409 - precision_m: 0.8858 - recall_m: 0.8005\n",
            "Epoch 35/50\n",
            "8000/8000 [==============================] - 1s 69us/step - loss: 0.4153 - categorical_accuracy: 0.8470 - f1_m: 0.8483 - precision_m: 0.8926 - recall_m: 0.8084\n",
            "Epoch 36/50\n",
            "8000/8000 [==============================] - 1s 72us/step - loss: 0.4118 - categorical_accuracy: 0.8446 - f1_m: 0.8435 - precision_m: 0.8859 - recall_m: 0.8051\n",
            "Epoch 37/50\n",
            "8000/8000 [==============================] - 1s 69us/step - loss: 0.4244 - categorical_accuracy: 0.8438 - f1_m: 0.8440 - precision_m: 0.8831 - recall_m: 0.8082\n",
            "Epoch 38/50\n",
            "8000/8000 [==============================] - 1s 68us/step - loss: 0.4240 - categorical_accuracy: 0.8447 - f1_m: 0.8457 - precision_m: 0.8918 - recall_m: 0.8041\n",
            "Epoch 39/50\n",
            "8000/8000 [==============================] - 1s 73us/step - loss: 0.4541 - categorical_accuracy: 0.8319 - f1_m: 0.8299 - precision_m: 0.8738 - recall_m: 0.7904\n",
            "Epoch 40/50\n",
            "8000/8000 [==============================] - 1s 68us/step - loss: 0.4356 - categorical_accuracy: 0.8356 - f1_m: 0.8364 - precision_m: 0.8769 - recall_m: 0.7996\n",
            "Epoch 41/50\n",
            "8000/8000 [==============================] - 1s 69us/step - loss: 0.4352 - categorical_accuracy: 0.8399 - f1_m: 0.8388 - precision_m: 0.8832 - recall_m: 0.7987\n",
            "Epoch 42/50\n",
            "8000/8000 [==============================] - 1s 68us/step - loss: 0.4635 - categorical_accuracy: 0.8322 - f1_m: 0.8318 - precision_m: 0.8808 - recall_m: 0.7881\n",
            "Epoch 43/50\n",
            "8000/8000 [==============================] - 1s 68us/step - loss: 0.4310 - categorical_accuracy: 0.8388 - f1_m: 0.8416 - precision_m: 0.8817 - recall_m: 0.8050\n",
            "Epoch 44/50\n",
            "8000/8000 [==============================] - 1s 68us/step - loss: 0.3984 - categorical_accuracy: 0.8503 - f1_m: 0.8529 - precision_m: 0.8950 - recall_m: 0.8146\n",
            "Epoch 45/50\n",
            "8000/8000 [==============================] - 1s 67us/step - loss: 0.3819 - categorical_accuracy: 0.8585 - f1_m: 0.8602 - precision_m: 0.8954 - recall_m: 0.8278\n",
            "Epoch 46/50\n",
            "8000/8000 [==============================] - 1s 68us/step - loss: 0.4047 - categorical_accuracy: 0.8512 - f1_m: 0.8517 - precision_m: 0.8917 - recall_m: 0.8152\n",
            "Epoch 47/50\n",
            "8000/8000 [==============================] - 1s 68us/step - loss: 0.3588 - categorical_accuracy: 0.8692 - f1_m: 0.8698 - precision_m: 0.9057 - recall_m: 0.8369\n",
            "Epoch 48/50\n",
            "8000/8000 [==============================] - 1s 67us/step - loss: 0.3381 - categorical_accuracy: 0.8790 - f1_m: 0.8778 - precision_m: 0.9105 - recall_m: 0.8474\n",
            "Epoch 49/50\n",
            "8000/8000 [==============================] - 1s 67us/step - loss: 0.3120 - categorical_accuracy: 0.8880 - f1_m: 0.8872 - precision_m: 0.9159 - recall_m: 0.8604\n",
            "Epoch 50/50\n",
            "8000/8000 [==============================] - 1s 66us/step - loss: 0.3224 - categorical_accuracy: 0.8834 - f1_m: 0.8853 - precision_m: 0.9155 - recall_m: 0.8570\n",
            "\n",
            "\n",
            "\n",
            "\n",
            "\n",
            "\n",
            "8000/8000 [==============================] - 0s 57us/step\n",
            "Train Accuracy: 90.43\n",
            "Train F1 Score: 90.39\n",
            "Train Time:  46.87026100000003\n",
            "28197/28197 [==============================] - 2s 55us/step\n",
            "Test Accuracy: 57.41\n",
            "Test F1 Score: 57.19\n",
            "Test Time:  2.2725889999999254\n"
          ],
          "name": "stdout"
        }
      ]
    },
    {
      "cell_type": "code",
      "metadata": {
        "id": "llU68YmUmimX",
        "outputId": "1218dcaf-7a9d-455d-de03-5ed21772d94c",
        "colab": {
          "base_uri": "https://localhost:8080/",
          "height": 34
        }
      },
      "source": [
        "dump(model, '/content/drive/My Drive/modelDL/model_1.joblib')"
      ],
      "execution_count": null,
      "outputs": [
        {
          "output_type": "execute_result",
          "data": {
            "text/plain": [
              "['/content/drive/My Drive/modelDL/model_1.joblib']"
            ]
          },
          "metadata": {
            "tags": []
          },
          "execution_count": 72
        }
      ]
    }
  ]
}